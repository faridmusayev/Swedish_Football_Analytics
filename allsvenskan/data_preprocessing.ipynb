{
 "cells": [
  {
   "cell_type": "code",
   "execution_count": 3,
   "id": "f6b5c932",
   "metadata": {},
   "outputs": [],
   "source": [
    "# import required libraries\n",
    "import os\n",
    "import json\n",
    "import numpy as np\n",
    "import pandas as pd\n",
    "import matplotlib.pyplot as plt\n",
    "from mplsoccer import Pitch, VerticalPitch\n",
    "import matplotlib_inline\n",
    "from matplotlib import cm\n",
    "import matplotlib_inline\n",
    "matplotlib_inline.backend_inline.set_matplotlib_formats('svg')"
   ]
  },
  {
   "cell_type": "code",
   "execution_count": 41,
   "id": "c591a735",
   "metadata": {},
   "outputs": [],
   "source": [
    "# extract all match names in directory as a list \n",
    "files = os.listdir('matches_2021_json')"
   ]
  },
  {
   "cell_type": "code",
   "execution_count": 42,
   "id": "58ad88b5",
   "metadata": {},
   "outputs": [],
   "source": [
    " with open('matches_2021_json\\\\' + files[0], 'r') as f:\n",
    "        data = json.load(f)"
   ]
  },
  {
   "cell_type": "code",
   "execution_count": 121,
   "id": "ef4f96b2",
   "metadata": {},
   "outputs": [],
   "source": [
    "# avoid last file 'players.json' indexed as '-1'\n",
    "cols = []\n",
    "# find all column names in all json files\n",
    "for i in files[:-1]:\n",
    "    with open('matches_2021_json\\\\' + i, 'r') as f:\n",
    "        data = json.load(f)\n",
    "   \n",
    "    # convert list of dictionaries into data frame \n",
    "    events = pd.DataFrame(data['events'])\n",
    "    # reset indices\n",
    "    events = events.reset_index()\n",
    "    events.drop('index', axis = 1, inplace = True)\n",
    "    cols = cols + list(events.columns)"
   ]
  },
  {
   "cell_type": "code",
   "execution_count": 128,
   "id": "82c9c1ad",
   "metadata": {},
   "outputs": [
    {
     "data": {
      "text/plain": [
       "{'action',\n",
       " 'attack_type',\n",
       " 'corner_outcome',\n",
       " 'end_time',\n",
       " 'external_id',\n",
       " 'foot_used',\n",
       " 'game_time',\n",
       " 'goal_mouth',\n",
       " 'header',\n",
       " 'next_player',\n",
       " 'one_touch',\n",
       " 'penalty',\n",
       " 'player',\n",
       " 'start_time',\n",
       " 'team',\n",
       " 'throw_in',\n",
       " 'xdest',\n",
       " 'xg',\n",
       " 'xp',\n",
       " 'xpos',\n",
       " 'xt',\n",
       " 'ydest',\n",
       " 'ypos'}"
      ]
     },
     "execution_count": 128,
     "metadata": {},
     "output_type": "execute_result"
    }
   ],
   "source": [
    "# find all unique column names available\n",
    "set(cols)"
   ]
  },
  {
   "cell_type": "code",
   "execution_count": 87,
   "id": "3ec37f60",
   "metadata": {},
   "outputs": [],
   "source": [
    "col_rearr = ['external_id', 'team', 'player', 'next_player', 'xpos', 'ypos', 'xdest', 'ydest', 'start_time', 'end_time',\n",
    "            'action', 'xg', 'xt', 'xp','game_time', 'header', 'penalty', 'attack_type', \n",
    "                    'corner_outcome', 'foot_used', 'one_touch', 'goal_mouth']"
   ]
  },
  {
   "cell_type": "code",
   "execution_count": 132,
   "id": "9bd3e134",
   "metadata": {
    "scrolled": true
   },
   "outputs": [],
   "source": [
    "# avoid last file 'players.json' indexed as '-1'\n",
    "for i in files[:-1]:\n",
    "    with open('matches_2021_json\\\\' + i, 'r') as f:\n",
    "        data = json.load(f)\n",
    "   \n",
    "    # convert list of dictionaries into data frame \n",
    "    events = pd.DataFrame(data['events'])\n",
    "    \n",
    "    # reset indices\n",
    "    events = events.reset_index()\n",
    "    events.drop('index', axis = 1, inplace = True)   \n",
    "    \n",
    "    # rearrange columns\n",
    "    # since only single match has less than 23 columns which is '397511822166547-Halmstad-DegerforsIF'\n",
    "    if len(events.columns) < 23:\n",
    "        col_rearr = ['external_id', 'team', 'player', 'next_player', 'xpos', 'ypos', 'xdest', 'ydest', 'start_time', 'end_time',\n",
    "                    'action', 'xg', 'xt', 'xp','game_time', 'header', 'penalty', 'throw_in']\n",
    "    else:\n",
    "        col_rearr = ['external_id','team', 'player', 'next_player', 'xpos', 'ypos', 'xdest', 'ydest', 'start_time', \n",
    "                     'end_time','action', 'xg', 'xt', 'xp','game_time', 'header', 'penalty', 'throw_in', 'attack_type', \n",
    "                    'corner_outcome', 'foot_used', 'one_touch', 'goal_mouth']\n",
    "    events = events[col_rearr]\n",
    "    \n",
    "    # replace all None values with NaN (missing value)\n",
    "    events.fillna(value = np.nan, inplace = True)\n",
    "    \n",
    "    # save dataframe \n",
    "    file_name = i.split('.')[0]\n",
    "    events.to_csv('matches_2021_csv\\\\' + file_name + '.csv', index = False)"
   ]
  },
  {
   "cell_type": "code",
   "execution_count": 259,
   "id": "a7085cca",
   "metadata": {},
   "outputs": [],
   "source": [
    "# load info 'how much players played in each game'\n",
    "with open('matches_2021_json\\\\allsvenskan, 2021-players.json', 'r') as f:\n",
    "    data2 = json.load(f)\n",
    "\n",
    "# aggregate results into data frame\n",
    "playing_time = pd.DataFrame()\n",
    "for i in data2:\n",
    "    single_col = {'player_name':i['name'], 'team_name':i['team'],\n",
    "                  'minutes_played':sum(i['minutes']['62163887d0736a3c7964ff4b'].values())}\n",
    "    playing_time = pd.concat([playing_time, pd.DataFrame([single_col])])\n",
    "\n",
    "playing_time.reset_index(inplace = True, drop = True)"
   ]
  },
  {
   "cell_type": "code",
   "execution_count": 260,
   "id": "24c1c8cd",
   "metadata": {},
   "outputs": [
    {
     "data": {
      "text/html": [
       "<div>\n",
       "<style scoped>\n",
       "    .dataframe tbody tr th:only-of-type {\n",
       "        vertical-align: middle;\n",
       "    }\n",
       "\n",
       "    .dataframe tbody tr th {\n",
       "        vertical-align: top;\n",
       "    }\n",
       "\n",
       "    .dataframe thead th {\n",
       "        text-align: right;\n",
       "    }\n",
       "</style>\n",
       "<table border=\"1\" class=\"dataframe\">\n",
       "  <thead>\n",
       "    <tr style=\"text-align: right;\">\n",
       "      <th></th>\n",
       "      <th>player_name</th>\n",
       "      <th>team_name</th>\n",
       "      <th>minutes_played</th>\n",
       "    </tr>\n",
       "  </thead>\n",
       "  <tbody>\n",
       "    <tr>\n",
       "      <th>0</th>\n",
       "      <td>Christopher Mc Vey</td>\n",
       "      <td>IF Elfsborg</td>\n",
       "      <td>2307</td>\n",
       "    </tr>\n",
       "    <tr>\n",
       "      <th>1</th>\n",
       "      <td>Tashreeq Matthews</td>\n",
       "      <td>Varbergs BoIS FC</td>\n",
       "      <td>1969</td>\n",
       "    </tr>\n",
       "    <tr>\n",
       "      <th>2</th>\n",
       "      <td>Ali Youssef</td>\n",
       "      <td>BK Häcken</td>\n",
       "      <td>389</td>\n",
       "    </tr>\n",
       "    <tr>\n",
       "      <th>3</th>\n",
       "      <td>Mikael Lustig</td>\n",
       "      <td>AIK</td>\n",
       "      <td>2491</td>\n",
       "    </tr>\n",
       "    <tr>\n",
       "      <th>4</th>\n",
       "      <td>Davor Blazevic</td>\n",
       "      <td>Hammarby</td>\n",
       "      <td>96</td>\n",
       "    </tr>\n",
       "    <tr>\n",
       "      <th>...</th>\n",
       "      <td>...</td>\n",
       "      <td>...</td>\n",
       "      <td>...</td>\n",
       "    </tr>\n",
       "    <tr>\n",
       "      <th>432</th>\n",
       "      <td>Emanuel Chabo</td>\n",
       "      <td>IFK Norrköping FK</td>\n",
       "      <td>212</td>\n",
       "    </tr>\n",
       "    <tr>\n",
       "      <th>433</th>\n",
       "      <td>Johannes Bjarnason</td>\n",
       "      <td>IFK Norrköping FK</td>\n",
       "      <td>198</td>\n",
       "    </tr>\n",
       "    <tr>\n",
       "      <th>434</th>\n",
       "      <td>Kalpi Wilfried Ouattara</td>\n",
       "      <td>Östersund</td>\n",
       "      <td>92</td>\n",
       "    </tr>\n",
       "    <tr>\n",
       "      <th>435</th>\n",
       "      <td>Sebastian Lagerlund</td>\n",
       "      <td>BK Häcken</td>\n",
       "      <td>200</td>\n",
       "    </tr>\n",
       "    <tr>\n",
       "      <th>436</th>\n",
       "      <td>Amar Abdirahman Ahmed</td>\n",
       "      <td>AIK</td>\n",
       "      <td>202</td>\n",
       "    </tr>\n",
       "  </tbody>\n",
       "</table>\n",
       "<p>437 rows × 3 columns</p>\n",
       "</div>"
      ],
      "text/plain": [
       "                 player_name          team_name  minutes_played\n",
       "0         Christopher Mc Vey        IF Elfsborg            2307\n",
       "1          Tashreeq Matthews   Varbergs BoIS FC            1969\n",
       "2                Ali Youssef          BK Häcken             389\n",
       "3              Mikael Lustig                AIK            2491\n",
       "4             Davor Blazevic           Hammarby              96\n",
       "..                       ...                ...             ...\n",
       "432            Emanuel Chabo  IFK Norrköping FK             212\n",
       "433       Johannes Bjarnason  IFK Norrköping FK             198\n",
       "434  Kalpi Wilfried Ouattara          Östersund              92\n",
       "435      Sebastian Lagerlund          BK Häcken             200\n",
       "436    Amar Abdirahman Ahmed                AIK             202\n",
       "\n",
       "[437 rows x 3 columns]"
      ]
     },
     "execution_count": 260,
     "metadata": {},
     "output_type": "execute_result"
    }
   ],
   "source": [
    "playing_time"
   ]
  }
 ],
 "metadata": {
  "kernelspec": {
   "display_name": "Python 3 (ipykernel)",
   "language": "python",
   "name": "python3"
  },
  "language_info": {
   "codemirror_mode": {
    "name": "ipython",
    "version": 3
   },
   "file_extension": ".py",
   "mimetype": "text/x-python",
   "name": "python",
   "nbconvert_exporter": "python",
   "pygments_lexer": "ipython3",
   "version": "3.9.12"
  }
 },
 "nbformat": 4,
 "nbformat_minor": 5
}
