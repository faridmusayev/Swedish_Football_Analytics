{
 "cells": [
  {
   "cell_type": "code",
   "execution_count": 1,
   "id": "3bad3ce7",
   "metadata": {},
   "outputs": [],
   "source": [
    "# import required libraries\n",
    "import os\n",
    "import json\n",
    "import numpy as np\n",
    "import pandas as pd"
   ]
  },
  {
   "cell_type": "code",
   "execution_count": 118,
   "id": "6b1c71c3",
   "metadata": {},
   "outputs": [],
   "source": [
    "df = pd.read_csv('data/original/playmakerai/all_match_events.csv')\n",
    "plm_names = df['player'].sort_values().unique()"
   ]
  },
  {
   "cell_type": "code",
   "execution_count": 119,
   "id": "7f87f2d9",
   "metadata": {},
   "outputs": [],
   "source": [
    "df2 = pd.read_csv('data/original/fbref/player_stats.csv')\n",
    "fbref_names = df2['player'].sort_values().unique()"
   ]
  },
  {
   "cell_type": "markdown",
   "id": "de5f629c",
   "metadata": {},
   "source": [
    "### Stage 1"
   ]
  },
  {
   "cell_type": "code",
   "execution_count": 120,
   "id": "bdd57b0a",
   "metadata": {},
   "outputs": [],
   "source": [
    "matching_names = {}\n",
    "unmatching_names = []\n",
    "for i in plm_names:\n",
    "    for j in fbref_names:\n",
    "        if i == j:\n",
    "            matching_names[i] = j\n",
    "            break\n",
    "    else:\n",
    "        unmatching_names.append(i)"
   ]
  },
  {
   "cell_type": "markdown",
   "id": "1ac34ed6",
   "metadata": {},
   "source": [
    "### Stage 2"
   ]
  },
  {
   "cell_type": "code",
   "execution_count": 141,
   "id": "61115c4c",
   "metadata": {},
   "outputs": [],
   "source": [
    "new_names = {}\n",
    "for i in unmatching_names:\n",
    "    if len(i.split(' ')) > 1:\n",
    "        refined_name = i.split(' ')[0] + ' ' + i.split(' ')[-1]\n",
    "        new_names[i] = refined_name\n",
    "\n",
    "matching_names2 = {}\n",
    "unmatching_names2 = []\n",
    "for i, k in new_names.items():\n",
    "    for j in fbref_names:\n",
    "        if k == j:\n",
    "            matching_names2[i] = j\n",
    "            break\n",
    "    else:\n",
    "        unmatching_names2.append(i)"
   ]
  },
  {
   "cell_type": "markdown",
   "id": "d1a38fbf",
   "metadata": {},
   "source": [
    "### Stage 3"
   ]
  },
  {
   "cell_type": "code",
   "execution_count": 274,
   "id": "fa08b469",
   "metadata": {},
   "outputs": [],
   "source": [
    "odd =  ['á', 'ä', 'å', 'è', 'é', 'ó', 'ö', 'ø', 'ü', 'š', 'ž', 'ć', 'ð', 'đ']\n",
    "even = ['a', 'a', 'a', 'e', 'e', 'o', 'o', 'o', 'u', 's', 'z', 'c', 'd', 'd']\n",
    "d = dict([(i, j) for i, j in zip(odd, even)])"
   ]
  },
  {
   "cell_type": "code",
   "execution_count": 277,
   "id": "3dcf4c89",
   "metadata": {},
   "outputs": [],
   "source": [
    "new_names2 = {}\n",
    "for k in unmatching_names2:\n",
    "    m = k\n",
    "    for i, j in d.items():\n",
    "        k = k.replace(i, j).lower()\n",
    "    new_names2[m] = k\n",
    "\n",
    "new_fbref_names = []\n",
    "for k in fbref_names:\n",
    "    for i, j in d.items():\n",
    "        k = k.replace(i, j).lower()\n",
    "    new_fbref_names.append(k)\n"
   ]
  },
  {
   "cell_type": "code",
   "execution_count": 278,
   "id": "9d4b11cd",
   "metadata": {},
   "outputs": [],
   "source": [
    "matching_names3 = {}\n",
    "unmatching_names3 = []\n",
    "\n",
    "for i, k in new_names2.items():\n",
    "    for j in new_fbref_names:\n",
    "        if k == j:\n",
    "            matching_names3[i] = j\n",
    "            break\n",
    "    else:\n",
    "        unmatching_names3.append(i)"
   ]
  },
  {
   "cell_type": "code",
   "execution_count": 279,
   "id": "71e8aba3",
   "metadata": {},
   "outputs": [
    {
     "data": {
      "text/plain": [
       "51"
      ]
     },
     "execution_count": 279,
     "metadata": {},
     "output_type": "execute_result"
    }
   ],
   "source": [
    "len(unmatching_names3)"
   ]
  },
  {
   "cell_type": "code",
   "execution_count": null,
   "id": "040faf3e",
   "metadata": {},
   "outputs": [],
   "source": []
  },
  {
   "cell_type": "code",
   "execution_count": 280,
   "id": "698e1e8c",
   "metadata": {},
   "outputs": [
    {
     "data": {
      "text/plain": [
       "['Abdulrazaq Ishaq',\n",
       " 'Ahmed Yasin',\n",
       " 'Aleksandr Vasiutin',\n",
       " 'Alhassan Yusuf Abdullahi',\n",
       " 'Amir Al-Ammari',\n",
       " 'Andreas Skovgaard Larsen',\n",
       " 'Andrè Ibsen Rømer',\n",
       " 'Antonio Colak',\n",
       " 'Antonio Mirko Colak',\n",
       " 'Astrit Selmani',\n",
       " 'Bo Kristoffer Nordfeldt',\n",
       " 'Bojan Radulovic Samoukovic',\n",
       " 'Carlos Moros Gracia',\n",
       " 'Christopher Mc Vey',\n",
       " 'Daleho Irandust 67',\n",
       " 'Daniel Björnkvist',\n",
       " 'Douglas Bergqvist',\n",
       " 'Enock Kofi Adu',\n",
       " 'Erick Ouma Otieno',\n",
       " 'Franklin Degaulle Tebo Uchenna',\n",
       " 'Hákon Valdimarsson',\n",
       " 'Ioannis Anestis',\n",
       " 'Jean Carlos De Brito',\n",
       " 'Joseph Baffoe',\n",
       " 'Karl Axel Lindahl',\n",
       " 'Keanin Ayer',\n",
       " 'Kevin Javier Alvarez Hernandez',\n",
       " 'Lars Saetra',\n",
       " 'Lucas Hägg Johansson',\n",
       " 'Mads Fenger Nielsen',\n",
       " 'Malkolm Nilsson Säfqvist',\n",
       " 'Mamudu Moro',\n",
       " 'Marco Lund Nielsen',\n",
       " 'Markus Björkqvist',\n",
       " 'Maudo Lamine Jarjue',\n",
       " 'Mohammed Aziz Ouattara',\n",
       " 'Nikola Djurdjic',\n",
       " 'Oscar Vilhelmsson',\n",
       " 'Ouattara Mohammed Aziz',\n",
       " 'Patrick Luan Dos Santos',\n",
       " 'Paulo José De Oliveira',\n",
       " 'Rickard Emeka Friday',\n",
       " 'Romario Pereira Sipiao',\n",
       " 'Sebastian Larsson',\n",
       " 'Sebastian Olsson',\n",
       " 'Sergio Pena',\n",
       " 'Sveinn Aron Gudjohnsen',\n",
       " 'Tobias Carlsson',\n",
       " 'Valgeir Fridriksson',\n",
       " 'Veljko Birmancevic',\n",
       " 'Viktor Gustafson']"
      ]
     },
     "execution_count": 280,
     "metadata": {},
     "output_type": "execute_result"
    }
   ],
   "source": [
    "unmatching_names3"
   ]
  },
  {
   "cell_type": "markdown",
   "id": "fe74a2f6",
   "metadata": {},
   "source": [
    "### Stage 4"
   ]
  },
  {
   "cell_type": "code",
   "execution_count": 285,
   "id": "a201fc23",
   "metadata": {},
   "outputs": [],
   "source": [
    "import re"
   ]
  },
  {
   "cell_type": "code",
   "execution_count": 286,
   "id": "357788c1",
   "metadata": {},
   "outputs": [],
   "source": [
    "k1 = 'sebastian larsson'\n",
    "k2 = 'seb larsson'"
   ]
  },
  {
   "cell_type": "code",
   "execution_count": 300,
   "id": "ebdc0884",
   "metadata": {},
   "outputs": [
    {
     "name": "stdout",
     "output_type": "stream",
     "text": [
      "sebastian larsson\n"
     ]
    }
   ],
   "source": [
    "a = ['seb', 'lar']\n",
    "if re.findall(r'|'.join(a), k1):\n",
    "    print(k1)"
   ]
  },
  {
   "cell_type": "code",
   "execution_count": 269,
   "id": "a8f649b2",
   "metadata": {},
   "outputs": [],
   "source": [
    "new_names4 = {}\n",
    "for i in unmatching_names3:\n",
    "    refined_name = ' '.join(i.split(' ')[:2])\n",
    "    new_names4[i] = refined_name.lower\n",
    "    \n",
    "matching_names4 = {}\n",
    "unmatching_names4 = []\n",
    "\n",
    "for i, k in new_names4.items():\n",
    "    for j in new_fbref_names:\n",
    "        if k == j:\n",
    "            matching_names4[i] = j\n",
    "            break\n",
    "    else:\n",
    "        unmatching_names4.append(i)"
   ]
  }
 ],
 "metadata": {
  "kernelspec": {
   "display_name": "Python 3 (ipykernel)",
   "language": "python",
   "name": "python3"
  },
  "language_info": {
   "codemirror_mode": {
    "name": "ipython",
    "version": 3
   },
   "file_extension": ".py",
   "mimetype": "text/x-python",
   "name": "python",
   "nbconvert_exporter": "python",
   "pygments_lexer": "ipython3",
   "version": "3.9.12"
  }
 },
 "nbformat": 4,
 "nbformat_minor": 5
}
